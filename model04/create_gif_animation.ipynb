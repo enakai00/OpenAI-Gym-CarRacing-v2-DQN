{
 "cells": [
  {
   "cell_type": "code",
   "execution_count": 1,
   "id": "2b31bfe9-3b3d-4313-9435-cead3071ee41",
   "metadata": {},
   "outputs": [
    {
     "name": "stderr",
     "output_type": "stream",
     "text": [
      "/opt/conda/lib/python3.7/site-packages/flatbuffers/compat.py:19: DeprecationWarning: the imp module is deprecated in favour of importlib; see the module's documentation for alternative uses\n",
      "  import imp\n",
      "/opt/conda/lib/python3.7/site-packages/keras_preprocessing/image/utils.py:23: DeprecationWarning: NEAREST is deprecated and will be removed in Pillow 10 (2023-07-01). Use Resampling.NEAREST or Dither.NONE instead.\n",
      "  'nearest': pil_image.NEAREST,\n",
      "/opt/conda/lib/python3.7/site-packages/keras_preprocessing/image/utils.py:24: DeprecationWarning: BILINEAR is deprecated and will be removed in Pillow 10 (2023-07-01). Use Resampling.BILINEAR instead.\n",
      "  'bilinear': pil_image.BILINEAR,\n",
      "/opt/conda/lib/python3.7/site-packages/keras_preprocessing/image/utils.py:25: DeprecationWarning: BICUBIC is deprecated and will be removed in Pillow 10 (2023-07-01). Use Resampling.BICUBIC instead.\n",
      "  'bicubic': pil_image.BICUBIC,\n",
      "/opt/conda/lib/python3.7/site-packages/keras_preprocessing/image/utils.py:28: DeprecationWarning: HAMMING is deprecated and will be removed in Pillow 10 (2023-07-01). Use Resampling.HAMMING instead.\n",
      "  if hasattr(pil_image, 'HAMMING'):\n",
      "/opt/conda/lib/python3.7/site-packages/keras_preprocessing/image/utils.py:30: DeprecationWarning: BOX is deprecated and will be removed in Pillow 10 (2023-07-01). Use Resampling.BOX instead.\n",
      "  if hasattr(pil_image, 'BOX'):\n",
      "/opt/conda/lib/python3.7/site-packages/keras_preprocessing/image/utils.py:33: DeprecationWarning: LANCZOS is deprecated and will be removed in Pillow 10 (2023-07-01). Use Resampling.LANCZOS instead.\n",
      "  if hasattr(pil_image, 'LANCZOS'):\n"
     ]
    }
   ],
   "source": [
    "import gym\n",
    "import numpy as np\n",
    "import copy, random, time, subprocess, os\n",
    "from tensorflow.keras import layers, models"
   ]
  },
  {
   "cell_type": "code",
   "execution_count": 2,
   "id": "6dcb0907-a790-47b0-8ac6-a6c2eb912d61",
   "metadata": {},
   "outputs": [],
   "source": [
    "class QValue:\n",
    "    def __init__(self):\n",
    "        self.model = None\n",
    "\n",
    "    def get_action(self, state):\n",
    "        states = []\n",
    "        actions = []\n",
    "        for a in range(5):\n",
    "            states.append(np.array(state))\n",
    "            action_onehot = np.zeros(5)\n",
    "            action_onehot[a] = 1\n",
    "            actions.append(action_onehot)\n",
    "  \n",
    "        q_values = self.model.predict([np.array(states), np.array(actions)])\n",
    "        optimal_action = np.argmax(q_values)\n",
    "        return optimal_action, q_values[optimal_action][0]"
   ]
  },
  {
   "cell_type": "code",
   "execution_count": 3,
   "id": "cdc3cc3a-04dc-463b-87b0-5669d962e2fa",
   "metadata": {},
   "outputs": [],
   "source": [
    "def join_frames(o0, o1):\n",
    "    return np.r_[o0.transpose(), o1.transpose()].transpose() "
   ]
  },
  {
   "cell_type": "code",
   "execution_count": 4,
   "id": "14a92b6f-27a3-4bcf-b3e1-3e9c0dc85389",
   "metadata": {},
   "outputs": [],
   "source": [
    "q_value = QValue()"
   ]
  },
  {
   "cell_type": "code",
   "execution_count": 5,
   "id": "c9364323-e246-4abd-bfbc-74abe0f2d5e7",
   "metadata": {},
   "outputs": [],
   "source": [
    "import datetime \n",
    "import imageio\n",
    "\n",
    "def create_gif(checkpoint, model='model01', epsilon=0):\n",
    "\n",
    "    BUCKET = 'gs://etsuji-car-racing-v2-{}'.format(model)\n",
    "    filename = 'car-racing-v2-{}-{}.hd5'.format(checkpoint, model)\n",
    "    if not os.path.isfile(filename):\n",
    "        subprocess.run(['gsutil', 'cp', '{}/{}/{}'.format(BUCKET, model, filename), './'])   \n",
    "    print('load model {}'.format(filename))\n",
    "    q_value.model = models.load_model(filename)\n",
    "\n",
    "    env = gym.make(\"CarRacing-v2\", continuous=False)\n",
    "    o0 = env.reset()\n",
    "    o1 = copy.deepcopy(o0)\n",
    "    done = 0\n",
    "    total_r = 0\n",
    "    c = 0\n",
    "\n",
    "    frames = []\n",
    "\n",
    "    while not done:\n",
    "        if c % 1 == 0:\n",
    "            if np.random.random() < epsilon:\n",
    "                a = np.random.randint(5)\n",
    "            else:\n",
    "                a, _ = q_value.get_action(join_frames(o0, o1))          \n",
    "        o_new, r, done, i = env.step(a)\n",
    "        total_r += r\n",
    "        o0, o1 = o1, o_new \n",
    "        c += 1\n",
    "        frame = env.render('rgb_array')\n",
    "        frames.append(frame)\n",
    "        if c % 30 == 0:\n",
    "            print('{}:{}'.format(a, int(total_r)), end=', ')\n",
    "    print('{}:{}'.format(a, int(total_r)))\n",
    "        \n",
    "    now = datetime.datetime.now()\n",
    "    imageio.mimsave('car-racing-v2-{}-{:05d}-{}-{}.gif'.format(\n",
    "        model, int(checkpoint), int(total_r), now.strftime('%Y%m%d-%H%M%S')),\n",
    "                    frames, 'GIF' , **{'duration': 1.0/30.0})"
   ]
  },
  {
   "cell_type": "code",
   "execution_count": 6,
   "id": "190861f2-d74e-4010-8451-561ba87e689a",
   "metadata": {},
   "outputs": [
    {
     "name": "stdout",
     "output_type": "stream",
     "text": [
      "load model car-racing-v2-741-model04.hd5\n"
     ]
    },
    {
     "name": "stderr",
     "output_type": "stream",
     "text": [
      "2022-07-29 08:28:35.870163: I tensorflow/stream_executor/cuda/cuda_gpu_executor.cc:936] successful NUMA node read from SysFS had negative value (-1), but there must be at least one NUMA node, so returning NUMA node zero\n",
      "2022-07-29 08:28:35.880811: I tensorflow/stream_executor/cuda/cuda_gpu_executor.cc:936] successful NUMA node read from SysFS had negative value (-1), but there must be at least one NUMA node, so returning NUMA node zero\n",
      "2022-07-29 08:28:35.881465: I tensorflow/stream_executor/cuda/cuda_gpu_executor.cc:936] successful NUMA node read from SysFS had negative value (-1), but there must be at least one NUMA node, so returning NUMA node zero\n",
      "2022-07-29 08:28:35.883377: I tensorflow/core/platform/cpu_feature_guard.cc:151] This TensorFlow binary is optimized with oneAPI Deep Neural Network Library (oneDNN) to use the following CPU instructions in performance-critical operations:  AVX2 FMA\n",
      "To enable them in other operations, rebuild TensorFlow with the appropriate compiler flags.\n",
      "2022-07-29 08:28:35.883884: I tensorflow/stream_executor/cuda/cuda_gpu_executor.cc:936] successful NUMA node read from SysFS had negative value (-1), but there must be at least one NUMA node, so returning NUMA node zero\n",
      "2022-07-29 08:28:35.884544: I tensorflow/stream_executor/cuda/cuda_gpu_executor.cc:936] successful NUMA node read from SysFS had negative value (-1), but there must be at least one NUMA node, so returning NUMA node zero\n",
      "2022-07-29 08:28:35.885182: I tensorflow/stream_executor/cuda/cuda_gpu_executor.cc:936] successful NUMA node read from SysFS had negative value (-1), but there must be at least one NUMA node, so returning NUMA node zero\n",
      "2022-07-29 08:28:36.386872: I tensorflow/stream_executor/cuda/cuda_gpu_executor.cc:936] successful NUMA node read from SysFS had negative value (-1), but there must be at least one NUMA node, so returning NUMA node zero\n",
      "2022-07-29 08:28:36.387535: I tensorflow/stream_executor/cuda/cuda_gpu_executor.cc:936] successful NUMA node read from SysFS had negative value (-1), but there must be at least one NUMA node, so returning NUMA node zero\n",
      "2022-07-29 08:28:36.388148: I tensorflow/stream_executor/cuda/cuda_gpu_executor.cc:936] successful NUMA node read from SysFS had negative value (-1), but there must be at least one NUMA node, so returning NUMA node zero\n",
      "2022-07-29 08:28:36.388765: I tensorflow/core/common_runtime/gpu/gpu_device.cc:1525] Created device /job:localhost/replica:0/task:0/device:GPU:0 with 13823 MB memory:  -> device: 0, name: Tesla T4, pci bus id: 0000:00:04.0, compute capability: 7.5\n",
      "/opt/conda/lib/python3.7/site-packages/gym/core.py:330: DeprecationWarning: \u001b[33mWARN: Initializing wrapper in old step API which returns one bool instead of two. It is recommended to set `new_step_api=True` to use new step API. This will be the default behaviour in future.\u001b[0m\n",
      "  \"Initializing wrapper in old step API which returns one bool instead of two. It is recommended to set `new_step_api=True` to use new step API. This will be the default behaviour in future.\"\n",
      "/opt/conda/lib/python3.7/site-packages/gym/wrappers/step_api_compatibility.py:40: DeprecationWarning: \u001b[33mWARN: Initializing environment in old step API which returns one bool instead of two. It is recommended to set `new_step_api=True` to use new step API. This will be the default behaviour in future.\u001b[0m\n",
      "  \"Initializing environment in old step API which returns one bool instead of two. It is recommended to set `new_step_api=True` to use new step API. This will be the default behaviour in future.\"\n",
      "2022-07-29 08:28:38.136877: I tensorflow/stream_executor/cuda/cuda_dnn.cc:368] Loaded cuDNN version 8200\n",
      "/opt/conda/lib/python3.7/site-packages/gym/core.py:52: DeprecationWarning: \u001b[33mWARN: The argument mode in render method is deprecated; use render_mode during environment initialization instead.\n",
      "See here for more information: https://www.gymlibrary.ml/content/api/\u001b[0m\n",
      "  \"The argument mode in render method is deprecated; \"\n"
     ]
    },
    {
     "name": "stdout",
     "output_type": "stream",
     "text": [
      "3:9, 3:22, 3:39, 3:58, 2:81, 1:84, 1:87, 3:84, 1:81, 3:78, 3:75, 2:82, 3:79, 3:76, 1:73, 2:70, 2:90, 3:125, 3:157, 1:167, 2:164, 2:174, 2:174, 3:194, 3:213, 3:236, 1:265, 3:291, 1:326, 3:355, 3:387, 2:413, 1:449, 3:457\n"
     ]
    }
   ],
   "source": [
    "MODEL_NAME = 'model04'\n",
    "checkpoints = [741]\n",
    "\n",
    "for c in checkpoints:    \n",
    "    create_gif(c, MODEL_NAME, epsilon=0)"
   ]
  }
 ],
 "metadata": {
  "environment": {
   "kernel": "python3",
   "name": "tf2-gpu.2-8.m94",
   "type": "gcloud",
   "uri": "gcr.io/deeplearning-platform-release/tf2-gpu.2-8:m94"
  },
  "kernelspec": {
   "display_name": "Python 3",
   "language": "python",
   "name": "python3"
  },
  "language_info": {
   "codemirror_mode": {
    "name": "ipython",
    "version": 3
   },
   "file_extension": ".py",
   "mimetype": "text/x-python",
   "name": "python",
   "nbconvert_exporter": "python",
   "pygments_lexer": "ipython3",
   "version": "3.7.12"
  }
 },
 "nbformat": 4,
 "nbformat_minor": 5
}
