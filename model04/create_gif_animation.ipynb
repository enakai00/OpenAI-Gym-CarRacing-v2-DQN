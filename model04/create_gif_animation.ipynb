{
 "cells": [
  {
   "cell_type": "code",
   "execution_count": null,
   "id": "2b31bfe9-3b3d-4313-9435-cead3071ee41",
   "metadata": {},
   "outputs": [],
   "source": [
    "import gym\n",
    "import numpy as np\n",
    "import copy, random, time, subprocess, os\n",
    "from tensorflow.keras import layers, models"
   ]
  },
  {
   "cell_type": "code",
   "execution_count": null,
   "id": "6dcb0907-a790-47b0-8ac6-a6c2eb912d61",
   "metadata": {},
   "outputs": [],
   "source": [
    "class QValue:\n",
    "  def __init__(self):\n",
    "    self.model = None\n",
    "\n",
    "  def get_action(self, state):\n",
    "    states = []\n",
    "    actions = []\n",
    "    for a in range(5):\n",
    "      states.append(np.array(state))\n",
    "      action_onehot = np.zeros(5)\n",
    "      action_onehot[a] = 1\n",
    "      actions.append(action_onehot)\n",
    "  \n",
    "    q_values = self.model.predict([np.array(states), np.array(actions)])\n",
    "    optimal_action = np.argmax(q_values)\n",
    "    return optimal_action, q_values[optimal_action][0]"
   ]
  },
  {
   "cell_type": "code",
   "execution_count": null,
   "id": "cdc3cc3a-04dc-463b-87b0-5669d962e2fa",
   "metadata": {},
   "outputs": [],
   "source": [
    "def join_frames(o0, o1):\n",
    "    return np.r_[o0.transpose(), o1.transpose()].transpose() "
   ]
  },
  {
   "cell_type": "code",
   "execution_count": null,
   "id": "14a92b6f-27a3-4bcf-b3e1-3e9c0dc85389",
   "metadata": {},
   "outputs": [],
   "source": [
    "q_value = QValue()"
   ]
  },
  {
   "cell_type": "code",
   "execution_count": null,
   "id": "c9364323-e246-4abd-bfbc-74abe0f2d5e7",
   "metadata": {},
   "outputs": [],
   "source": [
    "import datetime \n",
    "import imageio\n",
    "\n",
    "def create_gif(checkpoint, model='model01', epsilon=0):\n",
    "\n",
    "    BUCKET = 'gs://etsuji-car-racing-v2-{}'.format(model)\n",
    "    filename = 'car-racing-v2-{}-{}.hd5'.format(model, checkpoint)\n",
    "    subprocess.run(['gsutil', 'cp', '{}/{}/{}'.format(BUCKET, model, filename), './'])\n",
    "    print('load model {}'.format(filename))\n",
    "    q_value.model = models.load_model(filename)\n",
    "    os.remove(filename)\n",
    "\n",
    "    env = gym.make(\"CarRacing-v2\", continuous=False)\n",
    "    o0 = env.reset()\n",
    "    o1 = copy.deepcopy(o0)\n",
    "    done = 0\n",
    "    total_r = 0\n",
    "    c = 0\n",
    "\n",
    "    frames = []\n",
    "\n",
    "    while not done:\n",
    "        if c % 1 == 0:\n",
    "            if np.random.random() < epsilon:\n",
    "                a = np.random.randint(5)\n",
    "            else:\n",
    "                a, _ = q_value.get_action(join_frames(o0, o1))          \n",
    "        o_new, r, done, i = env.step(a)\n",
    "        total_r += r\n",
    "        o0, o1 = o1, o_new \n",
    "        c += 1\n",
    "        frame = env.render('rgb_array')\n",
    "        frames.append(frame)\n",
    "        if c % 30 == 0:\n",
    "            print('{}:{}'.format(a, int(total_r)), end=', ')\n",
    "    print('{}:{}'.format(a, int(total_r)))\n",
    "        \n",
    "    now = datetime.datetime.now()\n",
    "    imageio.mimsave('car-racing-v2-{}-{:05d}-{}-{}.gif'.format(\n",
    "        model, int(checkpoint), int(total_r), now.strftime('%Y%m%d-%H%M%S')),\n",
    "                    frames, 'GIF' , **{'duration': 1.0/30.0})"
   ]
  },
  {
   "cell_type": "code",
   "execution_count": null,
   "id": "190861f2-d74e-4010-8451-561ba87e689a",
   "metadata": {},
   "outputs": [],
   "source": [
    "MODEL_NAME = 'model04'\n",
    "checkpoints = [432]\n",
    "\n",
    "for c in checkpoints:    \n",
    "    create_gif(c, MODEL_NAME, epsilon=0)"
   ]
  }
 ],
 "metadata": {
  "environment": {
   "kernel": "python3",
   "name": "tf2-gpu.2-8.m94",
   "type": "gcloud",
   "uri": "gcr.io/deeplearning-platform-release/tf2-gpu.2-8:m94"
  },
  "kernelspec": {
   "display_name": "Python 3",
   "language": "python",
   "name": "python3"
  },
  "language_info": {
   "codemirror_mode": {
    "name": "ipython",
    "version": 3
   },
   "file_extension": ".py",
   "mimetype": "text/x-python",
   "name": "python",
   "nbconvert_exporter": "python",
   "pygments_lexer": "ipython3",
   "version": "3.7.12"
  }
 },
 "nbformat": 4,
 "nbformat_minor": 5
}
